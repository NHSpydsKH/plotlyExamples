{
 "cells": [
  {
   "cell_type": "markdown",
   "metadata": {
    "papermill": {
     "duration": 0.029268,
     "end_time": "2020-08-15T05:42:33.215422",
     "exception": false,
     "start_time": "2020-08-15T05:42:33.186154",
     "status": "completed"
    },
    "tags": []
   },
   "source": [
    "<h3 class=\"list-group-item list-group-item-action active\" data-toggle=\"list\"  role=\"tab\" aria-controls=\"home\">Table of content</h3>"
   ]
  },
  {
   "cell_type": "markdown",
   "metadata": {},
   "source": [
    "<a id=\"0\"></a>\n",
    "<font color=\"black\" size=+2.5><b>Starters</b></font>"
   ]
  },
  {
   "cell_type": "markdown",
   "metadata": {
    "papermill": {
     "duration": 0.02838,
     "end_time": "2020-08-15T05:42:52.032208",
     "exception": false,
     "start_time": "2020-08-15T05:42:52.003828",
     "status": "completed"
    },
    "tags": []
   },
   "source": [
    "**Plotly express :** Functions that can create entire figures at once.It is the recommended starting point for creating most common figures.Read more [here](https://plotly.com/python/plotly-express/)\n",
    "\n",
    "**Graph Objects**  The figures created, manipulated and rendered by the plotly Python library are represented by tree-like data structures which are automatically serialized to JSON for rendering by the Plotly.js JavaScript library.Read more [here](https://plotly.com/python/graph-objects/)\n",
    "\n",
    "<font color=\"darkblue\"><b>Basic elements in layout:</b></font>\n",
    "\n",
    "* **xaxis_title**: Plot x axis label\n",
    "* **yaxis_title**: Plot y axis label\n",
    "* **title**: Plot title\n",
    "* **title_font_size** : Plot title font size\n",
    "* **height**: Height of chart\n",
    "* **width**:  Width of chart\n",
    "* **show_legend**: False- Disble legend\n",
    "* **xaxis_type/yaxis_type**: Type of X/Y axis\n",
    "* **xaxis_showgrid/yaxis_showgrid**: Display grids or not\n",
    "* **gridcolor**: Color of grid\n",
    "* **gridwidth**: Width of grid\n",
    "\n",
    "<font color=\"darkblue\"><b>Basic elements in axes:</b></font>\n",
    "\n",
    "* **ticks**: 'inside'/'outside' - Zxes tickmark\n",
    "* **nticks**: Number of ticks\n",
    "* **tick0** : First tick position\n",
    "* **tickwidth**: Width of ticks\n",
    "* **tickcolor**: Color of ticks\n",
    "* **ticklen**:   Length of ticls\n",
    "* **showticklabels**: Display tick labels or not \n",
    "* **tickangle**: Angle of tick labels\n",
    "* **tickfont**:  Font of tick labels ex:dict(family='Rockwell', color='crimson', size=14)\n",
    "* **tickprefix**: Prefix of tick labels \n",
    "* **showline**:  Line of chart outline\n",
    "* **linewidth**: Line width of chart outline, label=2, \n",
    "* **linecolor**: Line color of chart outline, 'black'\n",
    "* **mirror** :  Opposite side of plotting area\n",
    "* **range**  :  Range limit of axis"
   ]
  }
 ],
 "metadata": {
  "kernelspec": {
   "display_name": "Python 3",
   "language": "python",
   "name": "python3"
  },
  "language_info": {
   "codemirror_mode": {
    "name": "ipython",
    "version": 3
   },
   "file_extension": ".py",
   "mimetype": "text/x-python",
   "name": "python",
   "nbconvert_exporter": "python",
   "pygments_lexer": "ipython3",
   "version": "3.6.10"
  },
  "papermill": {
   "duration": 53.693134,
   "end_time": "2020-08-15T05:43:15.958021",
   "environment_variables": {},
   "exception": null,
   "input_path": "__notebook__.ipynb",
   "output_path": "__notebook__.ipynb",
   "parameters": {},
   "start_time": "2020-08-15T05:42:22.264887",
   "version": "2.1.0"
  }
 },
 "nbformat": 4,
 "nbformat_minor": 4
}
